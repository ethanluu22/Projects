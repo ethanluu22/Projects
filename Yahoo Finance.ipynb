{
 "cells": [
  {
   "cell_type": "code",
   "execution_count": null,
   "id": "66b7de91",
   "metadata": {},
   "outputs": [],
   "source": [
    "# Public Comps using EBITDA/Revenue as primary multiple metric and mean for multiplier effect "
   ]
  },
  {
   "cell_type": "code",
   "execution_count": 156,
   "id": "ec82b274",
   "metadata": {},
   "outputs": [],
   "source": [
    "import pandas as pd\n",
    "import numpy as np\n",
    "from pandas_datareader import data\n",
    "import matplotlib.pyplot as plt\n",
    "import yfinance as yf\n",
    "\n",
    "# packages and yahoo finance"
   ]
  },
  {
   "cell_type": "code",
   "execution_count": 157,
   "id": "cab18af2",
   "metadata": {},
   "outputs": [],
   "source": [
    "start_date = '2023-01-01'\n",
    "end_date = '2023-04-16'\n",
    "\n",
    "# example start date"
   ]
  },
  {
   "cell_type": "code",
   "execution_count": 158,
   "id": "158bd81f",
   "metadata": {},
   "outputs": [],
   "source": [
    "ticker = 'V'\n",
    "\n",
    "# example target company - Visa"
   ]
  },
  {
   "cell_type": "code",
   "execution_count": 159,
   "id": "7ab5420a",
   "metadata": {},
   "outputs": [
    {
     "name": "stdout",
     "output_type": "stream",
     "text": [
      "[*********************100%***********************]  1 of 1 completed\n"
     ]
    }
   ],
   "source": [
    "data = yf.download(ticker, start = start_date, end = end_date)"
   ]
  },
  {
   "cell_type": "code",
   "execution_count": 162,
   "id": "86371d81",
   "metadata": {},
   "outputs": [],
   "source": [
    "stock = yf.Ticker(ticker)"
   ]
  },
  {
   "cell_type": "code",
   "execution_count": 163,
   "id": "3d1690fc",
   "metadata": {},
   "outputs": [],
   "source": [
    "valuation_measures = stock.info"
   ]
  },
  {
   "cell_type": "code",
   "execution_count": 164,
   "id": "a8aeb5a1",
   "metadata": {},
   "outputs": [],
   "source": [
    "stock = yf.Ticker(ticker)\n",
    "visa = {}\n",
    "for key, value in valuation_measures.items():\n",
    "    if isinstance(value, (int, float)):\n",
    "        visa[key] = value\n",
    "    elif isinstance(value, dict):\n",
    "        for sub_key, sub_value in value.items():\n",
    "            new_key = key + \"_\" + sub_key\n",
    "            if isinstance(sub_value, (int, float)):\n",
    "                visa[new_key] = sub_value"
   ]
  },
  {
   "cell_type": "code",
   "execution_count": 165,
   "id": "f859f9b3",
   "metadata": {},
   "outputs": [
    {
     "name": "stdout",
     "output_type": "stream",
     "text": [
      "{'fullTimeEmployees': 26500, 'auditRisk': 9, 'boardRisk': 3, 'compensationRisk': 2, 'shareHolderRightsRisk': 3, 'overallRisk': 4, 'governanceEpochDate': 1680307200, 'compensationAsOfEpochDate': 1672444800, 'maxAge': 86400, 'priceHint': 2, 'previousClose': 234.6, 'open': 235.0, 'dayLow': 233.38, 'dayHigh': 235.568, 'regularMarketPreviousClose': 234.6, 'regularMarketOpen': 235.0, 'regularMarketDayLow': 233.38, 'regularMarketDayHigh': 235.568, 'dividendRate': 1.8, 'dividendYield': 0.0077, 'exDividendDate': 1675900800, 'payoutRatio': 0.22, 'fiveYearAvgDividendYield': 0.62, 'beta': 0.964705, 'trailingPE': 32.68855, 'forwardPE': 24.153769, 'volume': 6750247, 'regularMarketVolume': 6750247, 'averageVolume': 6195711, 'averageVolume10days': 5642730, 'averageDailyVolume10Day': 5642730, 'bid': 234.46, 'ask': 234.33, 'bidSize': 800, 'askSize': 800, 'marketCap': 491923931136, 'fiftyTwoWeekLow': 174.6, 'fiftyTwoWeekHigh': 235.57, 'priceToSalesTrailing12Months': 16.295887, 'fiftyDayAverage': 224.2816, 'twoHundredDayAverage': 210.78035, 'trailingAnnualDividendRate': 1.65, 'trailingAnnualDividendYield': 0.007033248, 'enterpriseValue': 487829831680, 'profitMargins': 0.50277, 'floatShares': 1623601535, 'sharesOutstanding': 1624950016, 'sharesShort': 30474357, 'sharesShortPriorMonth': 32432172, 'sharesShortPreviousMonthDate': 1677542400, 'dateShortInterest': 1680220800, 'sharesPercentSharesOut': 0.0145000005, 'heldPercentInsiders': 0.00121, 'heldPercentInstitutions': 0.98730004, 'shortRatio': 4.22, 'shortPercentOfFloat': 0.0188, 'impliedSharesOutstanding': 0, 'bookValue': 16.981, 'priceToBook': 13.7830515, 'lastFiscalYearEnd': 1664496000, 'nextFiscalYearEnd': 1696032000, 'mostRecentQuarter': 1672444800, 'earningsQuarterlyGrowth': 0.056, 'netIncomeToCommon': 14864000000, 'trailingEps': 7.16, 'forwardEps': 9.69, 'pegRatio': 1.96, 'lastSplitDate': 1426723200, 'enterpriseToRevenue': 16.16, 'enterpriseToEbitda': 23.058, '52WeekChange': 0.11478925, 'SandP52WeekChange': -0.037848115, 'lastDividendValue': 0.45, 'lastDividendDate': 1675900800, 'firstTradeDateEpochUtc': 1205933400, 'gmtOffSetMilliseconds': -14400000, 'currentPrice': 234.05, 'targetHighPrice': 294.0, 'targetLowPrice': 185.0, 'targetMeanPrice': 262.95, 'targetMedianPrice': 265.5, 'recommendationMean': 1.8, 'numberOfAnalystOpinions': 36, 'totalCash': 16119000064, 'totalCashPerShare': 7.836, 'ebitda': 21156999168, 'totalDebt': 20487000064, 'quickRatio': 1.052, 'currentRatio': 1.44, 'totalRevenue': 30186999808, 'debtToEquity': 55.484, 'revenuePerShare': 14.552, 'returnOnAssets': 0.15141, 'returnOnEquity': 0.41514, 'grossProfits': 28567000000, 'freeCashflow': 15100749824, 'operatingCashflow': 18787999744, 'earningsGrowth': 0.084, 'revenueGrowth': 0.124, 'grossMargins': 0.97578, 'ebitdaMargins': 0.70085996, 'operatingMargins': 0.67138, 'trailingPegRatio': 1.4993}\n"
     ]
    }
   ],
   "source": [
    "print(visa)"
   ]
  },
  {
   "cell_type": "code",
   "execution_count": 166,
   "id": "ed5a3f75",
   "metadata": {},
   "outputs": [
    {
     "name": "stdout",
     "output_type": "stream",
     "text": [
      "[*********************100%***********************]  1 of 1 completed\n"
     ]
    }
   ],
   "source": [
    "ticker_ma = 'MA'\n",
    "data = yf.download(ticker_ma, start = start_date, end = end_date)\n",
    "stock_ma = yf.Ticker(ticker_ma)\n",
    "valuation_measures_ma = stock_ma.info\n",
    "mastercard = {}\n",
    "for key, value in valuation_measures_ma.items():\n",
    "    if isinstance(value, (int, float)):\n",
    "        mastercard[key] = value\n",
    "    elif isinstance(value, dict):\n",
    "        for sub_key, sub_value in value.items():\n",
    "            new_key = key + \"_\" + sub_key\n",
    "            if isinstance(sub_value, (int, float)):\n",
    "                mastercard[new_key] = sub_value"
   ]
  },
  {
   "cell_type": "code",
   "execution_count": 167,
   "id": "23f99948",
   "metadata": {},
   "outputs": [
    {
     "name": "stdout",
     "output_type": "stream",
     "text": [
      "[*********************100%***********************]  1 of 1 completed\n"
     ]
    }
   ],
   "source": [
    "ticker_pypl = 'PYPL'\n",
    "data = yf.download(ticker_pypl, start = start_date, end = end_date)\n",
    "stock_pypl = yf.Ticker(ticker_pypl)\n",
    "valuation_measures_pypl = stock_pypl.info\n",
    "paypal = {}\n",
    "for key, value in valuation_measures_pypl.items():\n",
    "    if isinstance(value, (int, float)):\n",
    "        paypal[key] = value\n",
    "    elif isinstance(value, dict):\n",
    "        for sub_key, sub_value in value.items():\n",
    "            new_key = key + \"_\" + sub_key\n",
    "            if isinstance(sub_value, (int, float)):\n",
    "                paypal[new_key] = sub_value"
   ]
  },
  {
   "cell_type": "code",
   "execution_count": 168,
   "id": "1a18e96b",
   "metadata": {},
   "outputs": [
    {
     "name": "stdout",
     "output_type": "stream",
     "text": [
      "[*********************100%***********************]  1 of 1 completed\n"
     ]
    }
   ],
   "source": [
    "ticker_coin = 'COIN'\n",
    "data = yf.download(ticker_coin, start = start_date, end = end_date)\n",
    "stock_coin = yf.Ticker(ticker_coin)\n",
    "valuation_measures_coin = stock_coin.info\n",
    "coin = {}\n",
    "for key, value in valuation_measures_coin.items():\n",
    "    if isinstance(value, (int, float)):\n",
    "        coin[key] = value\n",
    "    elif isinstance(value, dict):\n",
    "        for sub_key, sub_value in value.items():\n",
    "            new_key = key + \"_\" + sub_key\n",
    "            if isinstance(sub_value, (int, float)):\n",
    "                coin[new_key] = sub_value"
   ]
  },
  {
   "cell_type": "code",
   "execution_count": 169,
   "id": "120e5d6e",
   "metadata": {},
   "outputs": [
    {
     "name": "stdout",
     "output_type": "stream",
     "text": [
      "[*********************100%***********************]  1 of 1 completed\n"
     ]
    }
   ],
   "source": [
    "ticker_afrm = 'AFRM'\n",
    "data = yf.download(ticker_afrm, start = start_date, end = end_date)\n",
    "stock_afrm = yf.Ticker(ticker_afrm)\n",
    "valuation_measures_afrm = stock_afrm.info\n",
    "affirm = {}\n",
    "for key, value in valuation_measures_afrm.items():\n",
    "    if isinstance(value, (int, float)):\n",
    "        affirm[key] = value\n",
    "    elif isinstance(value, dict):\n",
    "        for sub_key, sub_value in value.items():\n",
    "            new_key = key + \"_\" + sub_key\n",
    "            if isinstance(sub_value, (int, float)):\n",
    "                affirm[new_key] = sub_value"
   ]
  },
  {
   "cell_type": "code",
   "execution_count": 170,
   "id": "2ab31b91",
   "metadata": {},
   "outputs": [],
   "source": [
    "dictionary = {'company': ['Visa', 'Mastercard', 'PayPal', 'Coin', 'Affirm Holdings'],\n",
    "'Ticker':['V', 'MA', 'PYPL', 'COIN', 'AFRM'], \n",
    "'Stock Price': [visa['open'], mastercard['open'], paypal['open'], coin['open'], affirm['open']],\n",
    "'Shares Outstanding': [visa['sharesOutstanding'], mastercard['sharesOutstanding'], paypal['sharesOutstanding'], coin['sharesOutstanding'], affirm['sharesOutstanding']], \n",
    "'Market Cap': [visa['marketCap'], mastercard['marketCap'], paypal['marketCap'], coin['marketCap'], affirm['marketCap']], \n",
    "'Enterprise Value': [visa['enterpriseValue'], mastercard['enterpriseValue'], paypal['enterpriseValue'], coin['enterpriseValue'], affirm['enterpriseValue']], \n",
    "'EBITDA': [visa['ebitda'], mastercard['ebitda'], paypal['ebitda'], coin['ebitda'], affirm['ebitda']], \n",
    "'Revenue': [visa['totalRevenue'], mastercard['totalRevenue'], paypal['totalRevenue'], coin['totalRevenue'], affirm['totalRevenue']], \n",
    "'EV/Revenue': [visa['enterpriseToRevenue'], mastercard['enterpriseToRevenue'], paypal['enterpriseToRevenue'], coin['enterpriseToRevenue'], affirm['enterpriseToRevenue']]}"
   ]
  },
  {
   "cell_type": "code",
   "execution_count": 171,
   "id": "5602021a",
   "metadata": {},
   "outputs": [
    {
     "data": {
      "text/plain": [
       "{'company': ['Visa', 'Mastercard', 'PayPal', 'Coin', 'Affirm Holdings'],\n",
       " 'Ticker': ['V', 'MA', 'PYPL', 'COIN', 'AFRM'],\n",
       " 'Stock Price': [235.0, 375.72, 73.4, 61.08, 10.97],\n",
       " 'Shares Outstanding': [1624950016,\n",
       "  945723008,\n",
       "  1122809984,\n",
       "  183582000,\n",
       "  233906000],\n",
       " 'Market Cap': [491923931136,\n",
       "  357694898176,\n",
       "  83290046464,\n",
       "  13666225152,\n",
       "  3231005184],\n",
       " 'Enterprise Value': [487829831680,\n",
       "  365158727680,\n",
       "  83933446144,\n",
       "  12882438144,\n",
       "  6699442688],\n",
       " 'EBITDA': [21156999168, 13374000128, 4929999872, -1899705984, -979945024],\n",
       " 'Revenue': [30186999808, 22236999680, 27517999104, 3149440000, 1480077952],\n",
       " 'EV/Revenue': [16.16, 16.421, 3.05, 4.09, 4.526]}"
      ]
     },
     "execution_count": 171,
     "metadata": {},
     "output_type": "execute_result"
    }
   ],
   "source": [
    "dictionary"
   ]
  },
  {
   "cell_type": "code",
   "execution_count": 172,
   "id": "1f905e21",
   "metadata": {},
   "outputs": [
    {
     "name": "stdout",
     "output_type": "stream",
     "text": [
      "           company Ticker  Stock Price  Shares Outstanding    Market Cap  \\\n",
      "0             Visa      V       235.00          1624950016  491923931136   \n",
      "1       Mastercard     MA       375.72           945723008  357694898176   \n",
      "2           PayPal   PYPL        73.40          1122809984   83290046464   \n",
      "3             Coin   COIN        61.08           183582000   13666225152   \n",
      "4  Affirm Holdings   AFRM        10.97           233906000    3231005184   \n",
      "\n",
      "   Enterprise Value       EBITDA      Revenue  EV/Revenue  \n",
      "0      487829831680  21156999168  30186999808      16.160  \n",
      "1      365158727680  13374000128  22236999680      16.421  \n",
      "2       83933446144   4929999872  27517999104       3.050  \n",
      "3       12882438144  -1899705984   3149440000       4.090  \n",
      "4        6699442688   -979945024   1480077952       4.526  \n"
     ]
    }
   ],
   "source": [
    "comps = pd.DataFrame(dictionary)\n",
    "print(comps)"
   ]
  },
  {
   "cell_type": "code",
   "execution_count": 173,
   "id": "9005aa17",
   "metadata": {},
   "outputs": [],
   "source": [
    "comps['EV/EBITDA'] = comps['Enterprise Value'] / comps['EBITDA']"
   ]
  },
  {
   "cell_type": "code",
   "execution_count": 174,
   "id": "07803977",
   "metadata": {},
   "outputs": [
    {
     "name": "stdout",
     "output_type": "stream",
     "text": [
      "           company Ticker  Stock Price  Shares Outstanding    Market Cap  \\\n",
      "0             Visa      V       235.00          1624950016  491923931136   \n",
      "1       Mastercard     MA       375.72           945723008  357694898176   \n",
      "2           PayPal   PYPL        73.40          1122809984   83290046464   \n",
      "3             Coin   COIN        61.08           183582000   13666225152   \n",
      "4  Affirm Holdings   AFRM        10.97           233906000    3231005184   \n",
      "\n",
      "   Enterprise Value       EBITDA      Revenue  EV/Revenue  EV/EBITDA  \n",
      "0      487829831680  21156999168  30186999808      16.160  23.057610  \n",
      "1      365158727680  13374000128  22236999680      16.421  27.303628  \n",
      "2       83933446144   4929999872  27517999104       3.050  17.025040  \n",
      "3       12882438144  -1899705984   3149440000       4.090  -6.781280  \n",
      "4        6699442688   -979945024   1480077952       4.526  -6.836550  \n"
     ]
    }
   ],
   "source": [
    "print(comps)"
   ]
  },
  {
   "cell_type": "code",
   "execution_count": 175,
   "id": "81791f5d",
   "metadata": {},
   "outputs": [],
   "source": [
    "def check_value(name): \n",
    "    mean_multiple = data_frame_two['EV/Revenue'].mean()\n",
    "    value = name['totalRevenue'] * mean_multiple \n",
    "    stock_price = value / name['sharesOutstanding']\n",
    "    if stock_price > name['open']: \n",
    "        print(\"Stock is undervalued. Buy\")\n",
    "    elif stock_price < name['open']: \n",
    "        print('Stock is overvalued. Sell')\n",
    "    else: \n",
    "        print('Stock price is just right. Hold')"
   ]
  },
  {
   "cell_type": "code",
   "execution_count": 176,
   "id": "83fa2690",
   "metadata": {},
   "outputs": [
    {
     "name": "stdout",
     "output_type": "stream",
     "text": [
      "Stock is overvalued. Sell\n"
     ]
    }
   ],
   "source": [
    "check_value(visa)"
   ]
  },
  {
   "cell_type": "code",
   "execution_count": 177,
   "id": "113f6194",
   "metadata": {},
   "outputs": [
    {
     "name": "stdout",
     "output_type": "stream",
     "text": [
      "Stock is overvalued. Sell\n"
     ]
    }
   ],
   "source": [
    "check_value(mastercard)"
   ]
  },
  {
   "cell_type": "code",
   "execution_count": 178,
   "id": "657476c6",
   "metadata": {},
   "outputs": [
    {
     "name": "stdout",
     "output_type": "stream",
     "text": [
      "Stock is undervalued. Buy\n"
     ]
    }
   ],
   "source": [
    "check_value(affirm)"
   ]
  },
  {
   "cell_type": "code",
   "execution_count": 179,
   "id": "05e0b91f",
   "metadata": {},
   "outputs": [
    {
     "name": "stdout",
     "output_type": "stream",
     "text": [
      "Stock is undervalued. Buy\n"
     ]
    }
   ],
   "source": [
    "check_value(coin)"
   ]
  },
  {
   "cell_type": "code",
   "execution_count": 180,
   "id": "216a4dae",
   "metadata": {},
   "outputs": [
    {
     "name": "stdout",
     "output_type": "stream",
     "text": [
      "Stock is undervalued. Buy\n"
     ]
    }
   ],
   "source": [
    "check_value(paypal)"
   ]
  },
  {
   "cell_type": "code",
   "execution_count": null,
   "id": "b823aa3f",
   "metadata": {},
   "outputs": [],
   "source": [
    "# The code above is a hard coded comps set, using manually selected companies "
   ]
  },
  {
   "cell_type": "code",
   "execution_count": null,
   "id": "58140cdc",
   "metadata": {},
   "outputs": [],
   "source": []
  },
  {
   "cell_type": "code",
   "execution_count": null,
   "id": "8b6418ee",
   "metadata": {},
   "outputs": [],
   "source": []
  },
  {
   "cell_type": "code",
   "execution_count": null,
   "id": "5954b807",
   "metadata": {},
   "outputs": [],
   "source": [
    "# To build a comps set using functions: "
   ]
  },
  {
   "cell_type": "code",
   "execution_count": 233,
   "id": "2ed12fae",
   "metadata": {},
   "outputs": [],
   "source": [
    "custom_dictionary = {'Company': [],\n",
    "'Ticker':[], \n",
    "'Stock Price': [],\n",
    "'Shares Outstanding': [], \n",
    "'Market Cap': [], \n",
    "'Enterprise Value': [], \n",
    "'EBITDA': [], \n",
    "'Revenue': [], \n",
    "'EV/Revenue': []}"
   ]
  },
  {
   "cell_type": "code",
   "execution_count": 234,
   "id": "98fe41f8",
   "metadata": {},
   "outputs": [],
   "source": [
    "def build_comps(tcker, start, end): \n",
    "    ticker = tcker\n",
    "    data = yf.download(ticker, start = start, end = end)\n",
    "    stock = yf.Ticker(ticker)\n",
    "    stock_name = stock.info['longName']\n",
    "    valuation_measures = stock.info\n",
    "    storage = {}\n",
    "    for key, value in valuation_measures.items():\n",
    "        if isinstance(value, (int, float)):\n",
    "            storage[key] = value\n",
    "        elif isinstance(value, dict):\n",
    "            for sub_key, sub_value in value.items():\n",
    "                new_key = key + \"_\" + sub_key\n",
    "                if isinstance(sub_value, (int, float)):\n",
    "                    storage[new_key] = sub_value\n",
    "    custom_dictionary['Company'].append(stock_name)\n",
    "    custom_dictionary['Ticker'].append(tcker)\n",
    "    custom_dictionary['Stock Price'].append(storage['open'])\n",
    "    custom_dictionary['Shares Outstanding'].append(storage['sharesOutstanding'])\n",
    "    custom_dictionary['Market Cap'].append(storage['marketCap'])\n",
    "    custom_dictionary['Enterprise Value'].append(storage['enterpriseValue'])\n",
    "    custom_dictionary['EBITDA'].append(storage['ebitda'])\n",
    "    custom_dictionary['Revenue'].append(storage['totalRevenue'])\n",
    "    custom_dictionary['EV/Revenue'].append(storage['enterpriseToRevenue'])"
   ]
  },
  {
   "cell_type": "code",
   "execution_count": 235,
   "id": "39e24293",
   "metadata": {},
   "outputs": [
    {
     "name": "stdout",
     "output_type": "stream",
     "text": [
      "[*********************100%***********************]  1 of 1 completed\n"
     ]
    }
   ],
   "source": [
    "build_comps('V', '2021-01-01', '2023-04-16')\n",
    "# How to make it: call build_comps() on each company you want to add and include the date range for the data"
   ]
  },
  {
   "cell_type": "code",
   "execution_count": 236,
   "id": "ffd03485",
   "metadata": {},
   "outputs": [
    {
     "data": {
      "text/plain": [
       "{'Company': ['Visa Inc.'],\n",
       " 'Ticker': ['V'],\n",
       " 'Stock Price': [235.0],\n",
       " 'Shares Outstanding': [1624950016],\n",
       " 'Market Cap': [491923931136],\n",
       " 'Enterprise Value': [487829831680],\n",
       " 'EBITDA': [21156999168],\n",
       " 'Revenue': [30186999808],\n",
       " 'EV/Revenue': [16.16]}"
      ]
     },
     "execution_count": 236,
     "metadata": {},
     "output_type": "execute_result"
    }
   ],
   "source": [
    "custom_dictionary"
   ]
  },
  {
   "cell_type": "code",
   "execution_count": 237,
   "id": "ec4a06be",
   "metadata": {},
   "outputs": [
    {
     "name": "stdout",
     "output_type": "stream",
     "text": [
      "[*********************100%***********************]  1 of 1 completed\n"
     ]
    }
   ],
   "source": [
    "build_comps('MA','2021-01-01', '2023-04-16')"
   ]
  },
  {
   "cell_type": "code",
   "execution_count": 238,
   "id": "9676aac6",
   "metadata": {},
   "outputs": [
    {
     "data": {
      "text/plain": [
       "{'Company': ['Visa Inc.', 'Mastercard Incorporated'],\n",
       " 'Ticker': ['V', 'MA'],\n",
       " 'Stock Price': [235.0, 375.72],\n",
       " 'Shares Outstanding': [1624950016, 945723008],\n",
       " 'Market Cap': [491923931136, 357694898176],\n",
       " 'Enterprise Value': [487829831680, 365158727680],\n",
       " 'EBITDA': [21156999168, 13374000128],\n",
       " 'Revenue': [30186999808, 22236999680],\n",
       " 'EV/Revenue': [16.16, 16.421]}"
      ]
     },
     "execution_count": 238,
     "metadata": {},
     "output_type": "execute_result"
    }
   ],
   "source": [
    "custom_dictionary"
   ]
  },
  {
   "cell_type": "code",
   "execution_count": 239,
   "id": "5561357f",
   "metadata": {},
   "outputs": [
    {
     "name": "stdout",
     "output_type": "stream",
     "text": [
      "[*********************100%***********************]  1 of 1 completed\n"
     ]
    },
    {
     "data": {
      "text/plain": [
       "{'Company': ['Visa Inc.', 'Mastercard Incorporated', 'Coinbase Global, Inc.'],\n",
       " 'Ticker': ['V', 'MA', 'COIN'],\n",
       " 'Stock Price': [235.0, 375.72, 61.08],\n",
       " 'Shares Outstanding': [1624950016, 945723008, 183582000],\n",
       " 'Market Cap': [491923931136, 357694898176, 13666225152],\n",
       " 'Enterprise Value': [487829831680, 365158727680, 12882438144],\n",
       " 'EBITDA': [21156999168, 13374000128, -1899705984],\n",
       " 'Revenue': [30186999808, 22236999680, 3149440000],\n",
       " 'EV/Revenue': [16.16, 16.421, 4.09]}"
      ]
     },
     "execution_count": 239,
     "metadata": {},
     "output_type": "execute_result"
    }
   ],
   "source": [
    "build_comps('COIN','2021-01-01', '2023-04-16')\n",
    "custom_dictionary"
   ]
  },
  {
   "cell_type": "code",
   "execution_count": 240,
   "id": "6b1224ee",
   "metadata": {},
   "outputs": [
    {
     "name": "stdout",
     "output_type": "stream",
     "text": [
      "[*********************100%***********************]  1 of 1 completed\n"
     ]
    },
    {
     "data": {
      "text/plain": [
       "{'Company': ['Visa Inc.',\n",
       "  'Mastercard Incorporated',\n",
       "  'Coinbase Global, Inc.',\n",
       "  'Affirm Holdings, Inc.'],\n",
       " 'Ticker': ['V', 'MA', 'COIN', 'AFRM'],\n",
       " 'Stock Price': [235.0, 375.72, 61.08, 10.97],\n",
       " 'Shares Outstanding': [1624950016, 945723008, 183582000, 233906000],\n",
       " 'Market Cap': [491923931136, 357694898176, 13666225152, 3231005184],\n",
       " 'Enterprise Value': [487829831680, 365158727680, 12882438144, 6699442688],\n",
       " 'EBITDA': [21156999168, 13374000128, -1899705984, -979945024],\n",
       " 'Revenue': [30186999808, 22236999680, 3149440000, 1480077952],\n",
       " 'EV/Revenue': [16.16, 16.421, 4.09, 4.526]}"
      ]
     },
     "execution_count": 240,
     "metadata": {},
     "output_type": "execute_result"
    }
   ],
   "source": [
    "build_comps('AFRM', '2021-01-01', '2023-04-16')\n",
    "custom_dictionary"
   ]
  },
  {
   "cell_type": "code",
   "execution_count": 241,
   "id": "f99bd923",
   "metadata": {},
   "outputs": [
    {
     "name": "stdout",
     "output_type": "stream",
     "text": [
      "[*********************100%***********************]  1 of 1 completed\n"
     ]
    },
    {
     "data": {
      "text/plain": [
       "{'Company': ['Visa Inc.',\n",
       "  'Mastercard Incorporated',\n",
       "  'Coinbase Global, Inc.',\n",
       "  'Affirm Holdings, Inc.',\n",
       "  'PayPal Holdings, Inc.'],\n",
       " 'Ticker': ['V', 'MA', 'COIN', 'AFRM', 'PYPL'],\n",
       " 'Stock Price': [235.0, 375.72, 61.08, 10.97, 73.4],\n",
       " 'Shares Outstanding': [1624950016,\n",
       "  945723008,\n",
       "  183582000,\n",
       "  233906000,\n",
       "  1122809984],\n",
       " 'Market Cap': [491923931136,\n",
       "  357694898176,\n",
       "  13666225152,\n",
       "  3231005184,\n",
       "  83290046464],\n",
       " 'Enterprise Value': [487829831680,\n",
       "  365158727680,\n",
       "  12882438144,\n",
       "  6699442688,\n",
       "  83933446144],\n",
       " 'EBITDA': [21156999168, 13374000128, -1899705984, -979945024, 4929999872],\n",
       " 'Revenue': [30186999808, 22236999680, 3149440000, 1480077952, 27517999104],\n",
       " 'EV/Revenue': [16.16, 16.421, 4.09, 4.526, 3.05]}"
      ]
     },
     "execution_count": 241,
     "metadata": {},
     "output_type": "execute_result"
    }
   ],
   "source": [
    "build_comps('PYPL', '2021-01-01', '2023-04-16')\n",
    "custom_dictionary"
   ]
  },
  {
   "cell_type": "code",
   "execution_count": 242,
   "id": "7ab8dee7",
   "metadata": {},
   "outputs": [
    {
     "name": "stdout",
     "output_type": "stream",
     "text": [
      "                   Company Ticker  Stock Price  Shares Outstanding  \\\n",
      "0                Visa Inc.      V       235.00          1624950016   \n",
      "1  Mastercard Incorporated     MA       375.72           945723008   \n",
      "2    Coinbase Global, Inc.   COIN        61.08           183582000   \n",
      "3    Affirm Holdings, Inc.   AFRM        10.97           233906000   \n",
      "4    PayPal Holdings, Inc.   PYPL        73.40          1122809984   \n",
      "\n",
      "     Market Cap  Enterprise Value       EBITDA      Revenue  EV/Revenue  \n",
      "0  491923931136      487829831680  21156999168  30186999808      16.160  \n",
      "1  357694898176      365158727680  13374000128  22236999680      16.421  \n",
      "2   13666225152       12882438144  -1899705984   3149440000       4.090  \n",
      "3    3231005184        6699442688   -979945024   1480077952       4.526  \n",
      "4   83290046464       83933446144   4929999872  27517999104       3.050  \n"
     ]
    }
   ],
   "source": [
    "custom_comps = pd.DataFrame(custom_dictionary)\n",
    "print(custom_comps)"
   ]
  },
  {
   "cell_type": "code",
   "execution_count": 253,
   "id": "963ed84e",
   "metadata": {},
   "outputs": [
    {
     "name": "stdout",
     "output_type": "stream",
     "text": [
      "Visa Inc.Stock is undervalued. Buy\n",
      "Mastercard IncorporatedStock is undervalued. Buy\n",
      "Coinbase Global, Inc.Stock is undervalued. Buy\n",
      "Affirm Holdings, Inc.Stock is undervalued. Buy\n",
      "PayPal Holdings, Inc.Stock is undervalued. Buy\n"
     ]
    }
   ],
   "source": [
    "# to check all stocks at once\n",
    "\n",
    "mean_multiple = custom_comps['EV/Revenue'].mean()\n",
    "def check_value(name): \n",
    "    value = custom_comps.loc[custom_comps['Company'] == name, 'Enterprise Value'].values[0] * mean_multiple \n",
    "    stock_price = value / custom_comps.loc[custom_comps['Company'] == name, 'Shares Outstanding'].values[0]\n",
    "    if stock_price > custom_comps.loc[custom_comps['Company'] == name, 'Stock Price'].values[0]: \n",
    "        print(name + \"Stock is undervalued. Buy\")\n",
    "    elif stock_price < custom_comps.loc[custom_comps['Company'] == name, 'Stock Price'].values[0]: \n",
    "        print(name + 'Stock is overvalued. Sell')\n",
    "    else: \n",
    "        print(name + 'Stock price is just right. Hold')\n",
    "        \n",
    "for i in custom_comps['Company']: \n",
    "    check_value(i)"
   ]
  },
  {
   "cell_type": "code",
   "execution_count": null,
   "id": "8c267b3d",
   "metadata": {},
   "outputs": [],
   "source": []
  },
  {
   "cell_type": "code",
   "execution_count": null,
   "id": "58cfd9ed",
   "metadata": {},
   "outputs": [],
   "source": [
    "\"\"\" Potential improvements: \n",
    "1. Further the comps table by including not just the EV/Revenue multiple\n",
    "but other common ones such as EV/EBITDA or P/E\n",
    "2. Rather than provide a single value, add complexity to the analysis \n",
    "by providing a range, using various valuation methods and also percentiles\n",
    "vs just mean. ie. mininum, 25th, median, 75th, maximum\n",
    "3. Build some metric for assessing the user's selection of their comps set\n",
    "ie. run a background check on factors like geography, industry, and \n",
    "most importantly financisl (revenue, market cap, etc.)\n",
    "\"\"\""
   ]
  }
 ],
 "metadata": {
  "kernelspec": {
   "display_name": "Python 3 (ipykernel)",
   "language": "python",
   "name": "python3"
  },
  "language_info": {
   "codemirror_mode": {
    "name": "ipython",
    "version": 3
   },
   "file_extension": ".py",
   "mimetype": "text/x-python",
   "name": "python",
   "nbconvert_exporter": "python",
   "pygments_lexer": "ipython3",
   "version": "3.9.12"
  }
 },
 "nbformat": 4,
 "nbformat_minor": 5
}
